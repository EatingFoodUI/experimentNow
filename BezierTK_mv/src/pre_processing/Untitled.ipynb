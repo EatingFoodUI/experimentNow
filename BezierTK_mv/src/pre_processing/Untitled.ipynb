{
 "cells": [
  {
   "cell_type": "code",
   "execution_count": 1,
   "metadata": {},
   "outputs": [],
   "source": [
    "import argparse\n",
    "import os\n",
    "import pandas as pd\n",
    "import sys\n",
    "\n",
    "sys.path.append('../')\n",
    "from datasets.Parsers.structures import Node, Tracks\n",
    "import numpy as np\n",
    "import glob\n",
    "import cv2\n",
    "from scipy.special import comb as n_over_k\n",
    "from mpl_toolkits.mplot3d.art3d import Line3DCollection\n",
    "from mpl_toolkits.mplot3d import axes3d\n",
    "from mpl_toolkits.mplot3d.proj3d import proj_transform\n",
    "from matplotlib.text import Annotation\n",
    "import matplotlib.pyplot as plt\n",
    "from matplotlib.animation import FFMpegWriter\n",
    "from numpy.random import rand\n",
    "import pickle\n",
    "import shutil\n",
    "import multiprocessing\n",
    "from tqdm import tqdm\n",
    "from ACT_utils.ACT_utils import tubelet_in_out_clip, clip_has_tublet\n",
    "import time"
   ]
  },
  {
   "cell_type": "code",
   "execution_count": 7,
   "metadata": {},
   "outputs": [
    {
     "data": {
      "text/plain": [
       "3"
      ]
     },
     "execution_count": 7,
     "metadata": {},
     "output_type": "execute_result"
    }
   ],
   "source": [
    "a = np.array([[145,681 ,509 ,692 ,542],[147 ,671 ,509 ,682 ,542],[149 ,662 ,509 ,673 ,542]])\n",
    "a.shape[0]"
   ]
  }
 ],
 "metadata": {
  "kernelspec": {
   "display_name": "Python 3",
   "language": "python",
   "name": "python3"
  },
  "language_info": {
   "codemirror_mode": {
    "name": "ipython",
    "version": 3
   },
   "file_extension": ".py",
   "mimetype": "text/x-python",
   "name": "python",
   "nbconvert_exporter": "python",
   "pygments_lexer": "ipython3",
   "version": "3.8.3"
  }
 },
 "nbformat": 4,
 "nbformat_minor": 4
}
